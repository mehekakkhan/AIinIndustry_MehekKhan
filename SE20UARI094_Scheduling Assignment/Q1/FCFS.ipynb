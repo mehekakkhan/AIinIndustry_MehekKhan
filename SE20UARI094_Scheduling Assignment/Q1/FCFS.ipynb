{
 "cells": [
  {
   "cell_type": "code",
   "execution_count": 4,
   "metadata": {},
   "outputs": [
    {
     "name": "stdout",
     "output_type": "stream",
     "text": [
      "P0: TAT=24, WT=0\n",
      "P1: TAT=23, WT=20\n",
      "P2: TAT=25, WT=22\n",
      "P3: TAT=36, WT=24\n",
      "Average TAT: 27.0\n",
      "Average WT: 16.5\n"
     ]
    }
   ],
   "source": [
    "def fcfs(processes, burst_time, arrival_time):\n",
    "    n = len(processes) # No. of processes\n",
    "    tat = [0] * n\n",
    "    wt = [0] * n\n",
    "    timeline = []\n",
    "\n",
    "    sorted_processes = sorted(range(n), key=lambda x: arrival_time[x]) # Sorting process on basis of arrival time in acs order\n",
    "\n",
    "\n",
    "    timeline.append(arrival_time[sorted_processes[0]])\n",
    "    timeline.append(burst_time[sorted_processes[0]] + arrival_time[sorted_processes[0]])\n",
    "\n",
    "    for i in range(1, n):\n",
    "        timeline.append(timeline[-1]) \n",
    "        timeline.append(burst_time[sorted_processes[i]] + timeline[-1])\n",
    "\n",
    "    for i in range(n):\n",
    "        tat[i] = timeline[2 * i + 1] - arrival_time[sorted_processes[i]] # Completion time - Arrival time\n",
    "        wt[i] = tat[i] - burst_time[sorted_processes[i]] # Turnaround time - Burst time\n",
    "\n",
    "    avg_wt = sum(wt) / n\n",
    "    avg_tat = sum(tat) / n\n",
    "\n",
    "    return tat, wt, avg_tat, avg_wt, timeline\n",
    "\n",
    "processes = ['P0', 'P1', 'P2', 'P3'] # Using Q1\n",
    "arrival_time = [0,4,5,6]\n",
    "burst_time = [24,3,3,12]\n",
    "tat, wt, avg_tat, avg_wt, timeline = fcfs(processes, burst_time, arrival_time)\n",
    "\n",
    "for i in range(len(processes)):\n",
    "    print(f'{processes[i]}: TAT={tat[i]}, WT={wt[i]}')\n",
    "\n",
    "print(f'Average TAT: {avg_tat}')\n",
    "print(f'Average WT: {avg_wt}')\n"
   ]
  },
  {
   "cell_type": "code",
   "execution_count": null,
   "metadata": {},
   "outputs": [],
   "source": []
  }
 ],
 "metadata": {
  "kernelspec": {
   "display_name": "Python 3",
   "language": "python",
   "name": "python3"
  },
  "language_info": {
   "codemirror_mode": {
    "name": "ipython",
    "version": 3
   },
   "file_extension": ".py",
   "mimetype": "text/x-python",
   "name": "python",
   "nbconvert_exporter": "python",
   "pygments_lexer": "ipython3",
   "version": "3.10.6"
  },
  "orig_nbformat": 4
 },
 "nbformat": 4,
 "nbformat_minor": 2
}
