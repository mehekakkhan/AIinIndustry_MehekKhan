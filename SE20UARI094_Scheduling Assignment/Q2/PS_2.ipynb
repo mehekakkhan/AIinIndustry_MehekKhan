{
 "cells": [
  {
   "cell_type": "code",
   "execution_count": 3,
   "metadata": {},
   "outputs": [
    {
     "name": "stdout",
     "output_type": "stream",
     "text": [
      "\n",
      "Process\tBurst Time\tPriority\tArrival Time\tWaiting Time\tTurnaround Time\n",
      "P1\t20\t\t5\t\t10\t\t0\t\t20\n",
      "P3\t15\t\t4\t\t20\t\t20\t\t35\n",
      "P0\t30\t\t3\t\t0\t\t35\t\t65\n",
      "P2\t40\t\t2\t\t15\t\t65\t\t105\n",
      "Average TAT: 56.25\n",
      "\n",
      "Average WT: 30.00\n"
     ]
    }
   ],
   "source": [
    "def ps():\n",
    "    processes = [       # Format: (Process ID, Burst Time, Priority, Arrival Time)\n",
    "        (\"P0\", 30, 3, 0),\n",
    "        (\"P1\", 20, 5, 10),\n",
    "        (\"P2\", 40, 2, 15),\n",
    "        (\"P3\", 15, 4, 20),\n",
    "    ]\n",
    "\n",
    "    processes.sort(key=lambda x: x[2], reverse=True) # Sorting on basis of priority in desc order\n",
    "\n",
    "    print(\"\\nProcess\\tBurst Time\\tPriority\\tArrival Time\\tWaiting Time\\tTurnaround Time\")\n",
    "    wt = 0\n",
    "    average_wt = 0\n",
    "    total_tat = 0\n",
    "\n",
    "    for process in processes:\n",
    "        pid, burst_time, priority, arrival_time = process\n",
    "        average_wt += wt\n",
    "        print(f\"{pid}\\t{burst_time}\\t\\t{priority}\\t\\t{arrival_time}\\t\\t{wt}\\t\\t\", end='')\n",
    "        tat = wt + burst_time \n",
    "        total_tat += tat \n",
    "        print(tat)\n",
    "        wt += burst_time\n",
    "\n",
    "    average_wt = average_wt / len(processes)\n",
    "    average_tat = total_tat / len(processes)\n",
    "\n",
    "    print(f\"Average TAT: {average_tat:.2f}\")\n",
    "    print(f\"\\nAverage WT: {average_wt:.2f}\")\n",
    "\n",
    "if __name__ == '__main__':\n",
    "    ps()\n"
   ]
  },
  {
   "cell_type": "code",
   "execution_count": null,
   "metadata": {},
   "outputs": [],
   "source": []
  }
 ],
 "metadata": {
  "kernelspec": {
   "display_name": "Python 3",
   "language": "python",
   "name": "python3"
  },
  "language_info": {
   "codemirror_mode": {
    "name": "ipython",
    "version": 3
   },
   "file_extension": ".py",
   "mimetype": "text/x-python",
   "name": "python",
   "nbconvert_exporter": "python",
   "pygments_lexer": "ipython3",
   "version": "3.10.6"
  },
  "orig_nbformat": 4
 },
 "nbformat": 4,
 "nbformat_minor": 2
}
