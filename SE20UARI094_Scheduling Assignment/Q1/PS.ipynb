{
 "cells": [
  {
   "cell_type": "code",
   "execution_count": 5,
   "metadata": {},
   "outputs": [
    {
     "name": "stdout",
     "output_type": "stream",
     "text": [
      "\n",
      "Process\tBurst Time\tPriority\tArrival Time\tWaiting Time\tTurnaround Time\n",
      "P1\t3\t\t1\t\t4\t\t0\t\t3\n",
      "P3\t12\t\t2\t\t6\t\t3\t\t15\n",
      "P0\t24\t\t3\t\t0\t\t15\t\t39\n",
      "P2\t3\t\t4\t\t5\t\t39\t\t42\n",
      "Average TAT: 24.75\n",
      "\n",
      "Average WT: 14.25\n"
     ]
    }
   ],
   "source": [
    "def ps():\n",
    "    processes = [     # Format: (Process ID, Burst Time, Priority, Arrival Time)\n",
    "        (\"P0\", 24, 3, 0),\n",
    "        (\"P1\", 3, 1, 4),\n",
    "        (\"P2\", 3, 4, 5),\n",
    "        (\"P3\", 12, 2, 6),\n",
    "    ]\n",
    "\n",
    "    processes.sort(key=lambda x: x[2]) # Sorting on basis of priority in asc order\n",
    "\n",
    "    print(\"\\nProcess\\tBurst Time\\tPriority\\tArrival Time\\tWaiting Time\\tTurnaround Time\")\n",
    "    wt = 0\n",
    "    average_wt = 0\n",
    "    total_tat = 0\n",
    "\n",
    "    for process in processes:\n",
    "        pid, burst_time, priority, arrival_time = process\n",
    "        average_wt += wt\n",
    "        print(f\"{pid}\\t{burst_time}\\t\\t{priority}\\t\\t{arrival_time}\\t\\t{wt}\\t\\t\", end='')\n",
    "        tat = wt + burst_time \n",
    "        total_tat += tat\n",
    "        print(tat)\n",
    "        wt += burst_time\n",
    "\n",
    "    average_wt = average_wt / len(processes)\n",
    "    average_tat = total_tat / len(processes)\n",
    "\n",
    "    print(f\"Average TAT: {average_tat:.2f}\")\n",
    "    print(f\"\\nAverage WT: {average_wt:.2f}\")\n",
    "\n",
    "if __name__ == '__main__':\n",
    "    ps()\n"
   ]
  },
  {
   "cell_type": "code",
   "execution_count": null,
   "metadata": {},
   "outputs": [],
   "source": []
  }
 ],
 "metadata": {
  "kernelspec": {
   "display_name": "Python 3",
   "language": "python",
   "name": "python3"
  },
  "language_info": {
   "codemirror_mode": {
    "name": "ipython",
    "version": 3
   },
   "file_extension": ".py",
   "mimetype": "text/x-python",
   "name": "python",
   "nbconvert_exporter": "python",
   "pygments_lexer": "ipython3",
   "version": "3.10.6"
  },
  "orig_nbformat": 4
 },
 "nbformat": 4,
 "nbformat_minor": 2
}
