{
  "nbformat": 4,
  "nbformat_minor": 0,
  "metadata": {
    "colab": {
      "provenance": [],
      "gpuType": "T4"
    },
    "kernelspec": {
      "name": "python3",
      "display_name": "Python 3"
    },
    "language_info": {
      "name": "python"
    },
    "accelerator": "GPU"
  },
  "cells": [
    {
      "cell_type": "code",
      "execution_count": 14,
      "metadata": {
        "colab": {
          "base_uri": "https://localhost:8080/"
        },
        "id": "KON6j-RXIGXd",
        "outputId": "c6beaf5b-eab0-41cf-c0b4-5fa525b1617d"
      },
      "outputs": [
        {
          "output_type": "stream",
          "name": "stdout",
          "text": [
            "Downloading...\n",
            "From: https://github.com/AlexeyAB/darknet/releases/download/darknet_yolo_v3_optimal/yolov4.weights\n",
            "To: /content/yolov4.weights\n",
            "100% 258M/258M [00:04<00:00, 60.0MB/s]\n"
          ]
        }
      ],
      "source": [
        "!gdown https://github.com/AlexeyAB/darknet/releases/download/darknet_yolo_v3_optimal/yolov4.weights  ## yolov4 weights"
      ]
    },
    {
      "cell_type": "code",
      "source": [
        "!gdown https://raw.githubusercontent.com/Tianxiaomo/pytorch-YOLOv4/master/cfg/yolov4.cfg ##yolov4 cfg"
      ],
      "metadata": {
        "colab": {
          "base_uri": "https://localhost:8080/"
        },
        "id": "M7lSJFGAJEcY",
        "outputId": "e0821649-e6a7-4727-b6bf-eb1121229ee6"
      },
      "execution_count": 15,
      "outputs": [
        {
          "output_type": "stream",
          "name": "stdout",
          "text": [
            "Downloading...\n",
            "From: https://raw.githubusercontent.com/Tianxiaomo/pytorch-YOLOv4/master/cfg/yolov4.cfg\n",
            "To: /content/yolov4.cfg\n",
            "\r  0% 0.00/957 [00:00<?, ?B/s]\r12.2kB [00:00, 40.4MB/s]     \n"
          ]
        }
      ]
    },
    {
      "cell_type": "code",
      "source": [
        "!gdown https://raw.githubusercontent.com/pjreddie/darknet/master/data/coco.names ##coco names"
      ],
      "metadata": {
        "colab": {
          "base_uri": "https://localhost:8080/"
        },
        "id": "RUawRy5aJL7i",
        "outputId": "92d967a2-379a-4111-f97c-ee053e799639"
      },
      "execution_count": 16,
      "outputs": [
        {
          "output_type": "stream",
          "name": "stdout",
          "text": [
            "Downloading...\n",
            "From: https://raw.githubusercontent.com/pjreddie/darknet/master/data/coco.names\n",
            "To: /content/coco.names\n",
            "\r  0% 0.00/386 [00:00<?, ?B/s]\r625B [00:00, 2.91MB/s]       \n"
          ]
        }
      ]
    },
    {
      "cell_type": "code",
      "source": [
        "import cv2\n",
        "import time\n",
        "import numpy as np\n",
        "from google.colab.patches import cv2_imshow\n",
        "\n",
        "confidence = 0.6\n",
        "Nms= 0.3\n",
        "class_names = []\n",
        "with open(\"coco.names\", \"r\") as f:\n",
        "  class_names = [cname.strip() for cname in f.readlines()]\n",
        "img = cv2.imread(\"/content/1.jpg\")\n",
        "arc = cv2.dnn.readNet(\"yolov4.weights\",\"yolov4.cfg\")\n",
        "arc.setPreferableBackend(cv2.dnn.DNN_BACKEND_CUDA)\n",
        "arc.setPreferableTarget(cv2.dnn.DNN_TARGET_CUDA_FP16)\n",
        "model = cv2.dnn_DetectionModel(arc)\n",
        "model.setInputParams(size=(640,640), scale=1/255, swapRB=True)\n",
        "x =time.time()\n",
        "classes, scores, boxes = model.detect(img, confidence, Nms)\n",
        "for (classid, score, box) in zip(classes, scores, boxes):\n",
        "  if class_names[classid[0]] == \"person\":\n",
        "    label = \"%s : %.2f\" % (class_names[classid[0]],score)\n",
        "    cv2.rectangle(img,box,color=(255, 200, 10),thickness=2)\n",
        "    cv2.putText(img, label, (box[0],box[1]-10),cv2.FONT_HERSHEY_SIMPLEX,0.6,(25,55,255),2)\n",
        "cv2_imshow(img)"
      ],
      "metadata": {
        "id": "X66grykbtM_L"
      },
      "execution_count": null,
      "outputs": []
    },
    {
      "cell_type": "code",
      "source": [],
      "metadata": {
        "id": "4Auj3I3dx9zo"
      },
      "execution_count": null,
      "outputs": []
    }
  ]
}