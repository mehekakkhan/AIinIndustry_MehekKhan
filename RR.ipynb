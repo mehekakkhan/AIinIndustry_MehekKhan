{
 "cells": [
  {
   "cell_type": "code",
   "execution_count": 8,
   "metadata": {},
   "outputs": [
    {
     "name": "stdout",
     "output_type": "stream",
     "text": [
      "\n",
      "Process\tArrival Time\tBurst Time\tFinish Time\tTAT\tWT\n",
      "B\t4\t\t3\t\t7\t\t3\t\t0\n",
      "\n",
      "Process\tArrival Time\tBurst Time\tFinish Time\tTAT\tWT\n",
      "C\t5\t\t3\t\t10\t\t5\t\t2\n",
      "\n",
      "Process\tArrival Time\tBurst Time\tFinish Time\tTAT\tWT\n",
      "D\t6\t\t12\t\t30\t\t24\t\t12\n",
      "\n",
      "Process\tArrival Time\tBurst Time\tFinish Time\tTAT\tWT\n",
      "A\t0\t\t24\t\t42\t\t42\t\t18\n",
      "Average TAT: 18.50\n",
      "\n",
      "Average WT: 8.00\n"
     ]
    }
   ],
   "source": [
    "def rr(processes, t_quant):\n",
    "    n = len(processes) # No. of processes\n",
    "    remaining_time = [process[1] for process in processes]\n",
    "    total_wt = 0\n",
    "    total_tat = 0\n",
    "    current_time = 0\n",
    "\n",
    "    while True:\n",
    "        all_finished = True\n",
    "\n",
    "        for i in range(n): # Iterating through each process\n",
    "            if remaining_time[i] > 0:\n",
    "                all_finished = False\n",
    "\n",
    "                if remaining_time[i] > t_quant:\n",
    "                    current_time += t_quant\n",
    "                    remaining_time[i] -= t_quant\n",
    "                else:\n",
    "                    current_time += remaining_time[i]\n",
    "                    completion_time = current_time\n",
    "                    remaining_time[i] = 0\n",
    "\n",
    "                    tat = completion_time - processes[i][2]  # Completion time - Arrival time \n",
    "                    wt = tat - processes[i][1]  # Turnaround time - Burst time\n",
    "\n",
    "                    total_wt += wt\n",
    "                    total_tat += tat\n",
    "\n",
    "                    print(f\"\\nProcess\\tArrival Time\\tBurst Time\\tFinish Time\\tTAT\\tWT\")\n",
    "                    print(f\"{chr(processes[i][0] + 64)}\\t{processes[i][2]}\\t\\t{processes[i][1]}\\t\\t{completion_time}\\t\\t{tat}\\t\\t{wt}\")\n",
    "\n",
    "        if all_finished:\n",
    "            break\n",
    "\n",
    "    average_wt = total_wt / n\n",
    "    average_tat = total_tat / n\n",
    "\n",
    "    print(f\"Average TAT: {average_tat:.2f}\")\n",
    "    print(f\"\\nAverage WT: {average_wt:.2f}\")\n",
    "\n",
    "\n",
    "if __name__ == '__main__': \n",
    "    processes = [(1, 24, 0),(2, 3, 4),(3, 3, 5),(4, 12, 6)] # Format: (Process ID, Burst Time, Arrival Time)\n",
    "    t_quant = 4\n",
    "    rr(processes, t_quant)\n"
   ]
  },
  {
   "cell_type": "code",
   "execution_count": null,
   "metadata": {},
   "outputs": [],
   "source": []
  }
 ],
 "metadata": {
  "kernelspec": {
   "display_name": "Python 3",
   "language": "python",
   "name": "python3"
  },
  "language_info": {
   "codemirror_mode": {
    "name": "ipython",
    "version": 3
   },
   "file_extension": ".py",
   "mimetype": "text/x-python",
   "name": "python",
   "nbconvert_exporter": "python",
   "pygments_lexer": "ipython3",
   "version": "3.10.6"
  },
  "orig_nbformat": 4
 },
 "nbformat": 4,
 "nbformat_minor": 2
}
