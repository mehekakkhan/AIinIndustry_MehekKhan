{
 "cells": [
  {
   "cell_type": "code",
   "execution_count": 1,
   "metadata": {},
   "outputs": [
    {
     "name": "stdout",
     "output_type": "stream",
     "text": [
      "P0: TAT=30, WT=0\n",
      "P3: TAT=25, WT=10\n",
      "P1: TAT=55, WT=35\n",
      "P2: TAT=90, WT=50\n",
      "\n",
      "Average TAT: 50.00\n",
      "Average WT: 23.75\n"
     ]
    }
   ],
   "source": [
    "def sjf(processes):\n",
    "    SIZE = len(processes)\n",
    "    processes.sort(key=lambda x: x[1]) #Sorting on basis of burst time in asc order\n",
    "\n",
    "    current_time = 0\n",
    "    total_tat = 0\n",
    "    total_wt = 0\n",
    "\n",
    "    while processes:\n",
    "        eligible_processes = [p for p in processes if p[1] <= current_time]\n",
    "        if eligible_processes:\n",
    "            shortest_process = min(eligible_processes, key=lambda x: x[2]) # Finding shortest process based on priority\n",
    "            processes.remove(shortest_process)\n",
    "\n",
    "            process_id, arrival_time, burst_time = shortest_process\n",
    "            current_time += burst_time\n",
    "            tat = current_time - arrival_time  # Current time - Arrival time \n",
    "            wt = tat - burst_time # Turnaround time - Burst time\n",
    "\n",
    "            total_tat += tat \n",
    "            total_wt += wt \n",
    "\n",
    "            print(\n",
    "                f\"{process_id}: TAT={tat}, WT={wt}\")\n",
    "        else:\n",
    "            current_time = processes[0][1]\n",
    "\n",
    "    avg_tat = total_tat / SIZE\n",
    "    avg_wt = total_wt / SIZE\n",
    "\n",
    "    print(f\"\\nAverage TAT: {avg_tat:.2f}\")\n",
    "    print(f\"Average WT: {avg_wt:.2f}\")\n",
    "\n",
    "\n",
    "if __name__ == '__main__':\n",
    "    processes = [         # Format: [Process ID, Arrival Time, Burst Time]\n",
    "        [\"P0\", 0, 30],\n",
    "        [\"P1\", 10, 20],\n",
    "        [\"P2\", 15, 40],\n",
    "        [\"P3\", 20, 15]\n",
    "    ]\n",
    "    sjf(processes)"
   ]
  },
  {
   "cell_type": "code",
   "execution_count": null,
   "metadata": {},
   "outputs": [],
   "source": []
  }
 ],
 "metadata": {
  "kernelspec": {
   "display_name": "Python 3",
   "language": "python",
   "name": "python3"
  },
  "language_info": {
   "codemirror_mode": {
    "name": "ipython",
    "version": 3
   },
   "file_extension": ".py",
   "mimetype": "text/x-python",
   "name": "python",
   "nbconvert_exporter": "python",
   "pygments_lexer": "ipython3",
   "version": "3.10.6"
  },
  "orig_nbformat": 4
 },
 "nbformat": 4,
 "nbformat_minor": 2
}
